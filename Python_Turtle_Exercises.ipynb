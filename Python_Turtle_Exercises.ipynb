{
  "cells": [
    {
      "cell_type": "markdown",
      "metadata": {
        "id": "ytbzyl3rnDRY"
      },
      "source": [
        "# Python Turtle Exercises\n",
        "\n",
        "This assignment aims to improve your algorithmic skills by drawing various geometric patterns using the Python Turtle library.  \n",
        "Each exercise includes a description and a code cell for your solutions.\n",
        "\n",
        "# Exercise 1: Drawing a Star\n",
        "## Description:\n",
        "Design an algorithm to draw a five-pointed star. Calculate the angle and line length correctly."
      ]
    },
    {
      "cell_type": "code",
      "execution_count": null,
      "metadata": {
        "id": "3uUSg4xJnUAw",
        "collapsed": true
      },
      "outputs": [],
      "source": [
        "import turtle\n",
        "\n",
        "def draw_star(size):\n",
        "\n",
        "    turtle.speed(3)\n",
        "    turtle.penup()\n",
        "    turtle.goto(-size / 2, size / 3)\n",
        "    turtle.pendown()\n",
        "\n",
        "    for _ in range(5):\n",
        "        turtle.forward(size)\n",
        "        turtle.right(144)\n",
        "\n",
        "    turtle.done()\n",
        "\n",
        "\n",
        "draw_star(200)\n"
      ]
    },
    {
      "cell_type": "markdown",
      "metadata": {
        "id": "tGUI2TbgnZYu"
      },
      "source": [
        "# Exercise 2: Drawing a Spiral Square\n",
        "## Description:\n",
        "Design an algorithm to draw a spiral square with increasing side lengths. Consider how to change the turtle's turning angle and movement distance after each square."
      ]
    },
    {
      "cell_type": "code",
      "execution_count": null,
      "metadata": {
        "id": "UAinAy64neJ9"
      },
      "outputs": [],
      "source": [
        "import turtle\n",
        "\n",
        "def draw_spiral_square(length, step, angle, iterations):\n",
        "\n",
        "    turtle.speed(0)\n",
        "    for i in range(iterations):\n",
        "        turtle.forward(length + i * step)\n",
        "        turtle.right(angle)\n",
        "\n",
        "    turtle.done()\n",
        "\n",
        "\n",
        "draw_spiral_square(length=10, step=5, angle=90, iterations=50)\n"
      ]
    },
    {
      "cell_type": "markdown",
      "metadata": {
        "id": "9u3aYlazngbx"
      },
      "source": [
        "# Exercise 3: Drawing Nested Polygons\n",
        "## Description:\n",
        "Design an algorithm to draw nested polygons with the same center and number of sides. Consider how to adjust the size of each polygon and position the turtle while drawing."
      ]
    },
    {
      "cell_type": "code",
      "execution_count": null,
      "metadata": {
        "id": "GvJ5VlvJnoDz"
      },
      "outputs": [],
      "source": [
        "#excercise\n",
        "import turtle\n",
        "\n",
        "def draw_nested_squares(t, num_squares, size_increment):\n",
        "    size = 20\n",
        "    for _ in range(num_squares):\n",
        "        for _ in range(4):\n",
        "            t.forward(size)\n",
        "            t.right(90)\n",
        "        t.penup()\n",
        "        t.backward(10)\n",
        "        t.right(90)\n",
        "        t.forward(-10)\n",
        "        t.left(90)\n",
        "        t.pendown()\n",
        "        size += size_increment\n",
        "\n",
        "screen = turtle.Screen()\n",
        "screen.bgcolor(\"lightgreen\")\n",
        "\n",
        "tess = turtle.Turtle()\n",
        "tess.color(\"hotpink\")\n",
        "tess.speed(3)\n",
        "\n",
        "draw_nested_squares(tess, 5, 20)\n",
        "\n",
        "screen.mainloop()\n"
      ]
    },
    {
      "cell_type": "markdown",
      "metadata": {
        "id": "w4S_F7XJnpYI"
      },
      "source": [
        "# Exercise 4: Drawing a Colorful Spiral\n",
        "## Description:\n",
        "Design an algorithm to draw a spiral using different colors. Consider how to change the color at each step and create the spiral shape."
      ]
    },
    {
      "cell_type": "code",
      "execution_count": null,
      "metadata": {
        "id": "e4KCcVxpnuUn"
      },
      "outputs": [],
      "source": [
        "import turtle\n",
        "import random\n",
        "\n",
        "def draw_colorful_spiral(steps, angle, length_increment):\n",
        "\n",
        "    turtle.speed(0)\n",
        "    turtle.bgcolor(\"black\")\n",
        "    colors = [\"red\", \"orange\", \"yellow\", \"green\", \"blue\", \"purple\", \"pink\", \"cyan\"]\n",
        "\n",
        "    length = 5\n",
        "\n",
        "    for i in range(steps):\n",
        "        turtle.pencolor(random.choice(colors))\n",
        "        turtle.forward(length)\n",
        "        turtle.right(angle)\n",
        "        length += length_increment\n",
        "\n",
        "    turtle.done()\n",
        "\n",
        "draw_colorful_spiral(steps=100, angle=59, length_increment=3)\n"
      ]
    },
    {
      "cell_type": "markdown",
      "metadata": {
        "id": "U4JZEptVn74m"
      },
      "source": [
        "# Exercise 5: Drawing a Random Pattern\n",
        "## Description:\n",
        "Design an algorithm to create an interesting pattern by randomly changing the turtle's movements and properties (color, thickness, etc.). Think about how to use randomness and vary different parameters."
      ]
    },
    {
      "cell_type": "code",
      "execution_count": null,
      "metadata": {
        "id": "4nk33NI8m9s1"
      },
      "outputs": [],
      "source": [
        "import turtle\n",
        "import random\n",
        "\n",
        "def draw_random_pattern(steps):\n",
        "\n",
        "    turtle.speed(0)\n",
        "    turtle.bgcolor(\"black\")\n",
        "    colors = [\"red\", \"orange\", \"yellow\", \"green\", \"blue\", \"purple\", \"pink\", \"cyan\", \"white\"]\n",
        "\n",
        "    for _ in range(steps):\n",
        "        turtle.pencolor(random.choice(colors))\n",
        "        turtle.pensize(random.randint(1, 5))\n",
        "        turtle.forward(random.randint(10, 50))\n",
        "        turtle.right(random.randint(0, 360))\n",
        "\n",
        "    turtle.done()\n",
        "\n",
        "draw_random_pattern(steps=200)\n"
      ]
    }
  ],
  "metadata": {
    "accelerator": "GPU",
    "colab": {
      "gpuType": "T4",
      "provenance": []
    },
    "kernelspec": {
      "display_name": "tensorflow",
      "language": "python",
      "name": "python3"
    },
    "language_info": {
      "codemirror_mode": {
        "name": "ipython",
        "version": 3
      },
      "file_extension": ".py",
      "mimetype": "text/x-python",
      "name": "python",
      "nbconvert_exporter": "python",
      "pygments_lexer": "ipython3",
      "version": "3.10.12"
    }
  },
  "nbformat": 4,
  "nbformat_minor": 0
}
